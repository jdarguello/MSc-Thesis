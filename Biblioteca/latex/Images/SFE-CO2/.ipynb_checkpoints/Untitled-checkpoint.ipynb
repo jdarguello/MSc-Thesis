{
 "cells": [
  {
   "cell_type": "code",
   "execution_count": 1,
   "metadata": {},
   "outputs": [
    {
     "name": "stdout",
     "output_type": "stream",
     "text": [
      "IPython console for SymPy 1.4 (Python 3.7.4-32-bit) (ground types: python)\n",
      "\n",
      "These commands were executed:\n",
      ">>> from __future__ import division\n",
      ">>> from sympy import *\n",
      ">>> x, y, z, t = symbols('x y z t')\n",
      ">>> k, m, n = symbols('k m n', integer=True)\n",
      ">>> f, g, h = symbols('f g h', cls=Function)\n",
      ">>> init_printing()\n",
      "\n",
      "Documentation can be found at https://docs.sympy.org/1.4/\n",
      "\n"
     ]
    }
   ],
   "source": [
    "from sympy import *\n",
    "init_session(use_latex = True)"
   ]
  },
  {
   "cell_type": "code",
   "execution_count": 75,
   "metadata": {},
   "outputs": [
    {
     "data": {
      "image/png": "[encoded data removed]",
      "text/latex": [
       "$\\displaystyle \\left\\{ c_{1} : \\frac{25}{1024}, \\  c_{2} : \\frac{625}{128}, \\  c_{3} : - \\frac{9225}{64}\\right\\}$"
      ],
      "text/plain": [
       "⎧     25       625      -9225 ⎫\n",
       "⎨c₁: ────, c₂: ───, c₃: ──────⎬\n",
       "⎩    1024      128        64  ⎭"
      ]
     },
     "execution_count": 75,
     "metadata": {},
     "output_type": "execute_result"
    }
   ],
   "source": [
    "#Cálculo de constantes\n",
    "x, c1, c2, c3 = symbols(\"x, c1, c2, c3\")\n",
    "Ecuacion = -c1*x**2 + c2*x + c3\n",
    "x1 = 36\n",
    "x2 = 164\n",
    "#Derivada\n",
    "derivada = Ecuacion.diff(x)\n",
    "sol1 = Eq(derivada.subs({x:100}),0)\n",
    "#Puntos 0\n",
    "sol2 = Eq(Ecuacion.subs({x:x1}),0)\n",
    "sol3 = Eq(Ecuacion.subs({x:x2}),0)\n",
    "#Punto máximo\n",
    "sol4 = Eq(Ecuacion.subs({x:100}),100)\n",
    "\n",
    "sol = solve((sol2,sol3,sol4), (c1, c2, c3))\n",
    "sol"
   ]
  },
  {
   "cell_type": "code",
   "execution_count": 76,
   "metadata": {},
   "outputs": [
    {
     "data": {
      "image/png": "[encoded data removed]",
      "text/latex": [
       "$\\displaystyle - \\frac{25 x^{2}}{1024} + \\frac{625 x}{128} - \\frac{9225}{64}$"
      ],
      "text/plain": [
       "      2               \n",
       "  25⋅x    625⋅x   9225\n",
       "- ───── + ───── - ────\n",
       "   1024    128     64 "
      ]
     },
     "execution_count": 76,
     "metadata": {},
     "output_type": "execute_result"
    }
   ],
   "source": [
    "Ec = Ecuacion.subs(sol)\n",
    "Ec"
   ]
  },
  {
   "cell_type": "code",
   "execution_count": 40,
   "metadata": {},
   "outputs": [
    {
     "data": {
      "image/png": "[encoded data removed]",
      "text/latex": [
       "$\\displaystyle 0$"
      ],
      "text/plain": [
       "0"
      ]
     },
     "execution_count": 40,
     "metadata": {},
     "output_type": "execute_result"
    }
   ],
   "source": [
    "Ecuacion.subs({x:100})"
   ]
  },
  {
   "cell_type": "code",
   "execution_count": 78,
   "metadata": {},
   "outputs": [
    {
     "data": {
      "image/png": "[encoded data removed]",
      "text/plain": [
       "<Figure size 432x288 with 1 Axes>"
      ]
     },
     "metadata": {
      "needs_background": "light"
     },
     "output_type": "display_data"
    },
    {
     "data": {
      "text/plain": [
       "<sympy.plotting.plot.Plot at 0x15ba9ab0>"
      ]
     },
     "execution_count": 78,
     "metadata": {},
     "output_type": "execute_result"
    }
   ],
   "source": [
    "%matplotlib inline\n",
    "plot(Ec)"
   ]
  }
 ],
 "metadata": {
  "kernelspec": {
   "display_name": "Python 3",
   "language": "python",
   "name": "python3"
  },
  "language_info": {
   "codemirror_mode": {
    "name": "ipython",
    "version": 3
   },
   "file_extension": ".py",
   "mimetype": "text/x-python",
   "name": "python",
   "nbconvert_exporter": "python",
   "pygments_lexer": "ipython3",
   "version": "3.7.4"
  }
 },
 "nbformat": 4,
 "nbformat_minor": 4
}
