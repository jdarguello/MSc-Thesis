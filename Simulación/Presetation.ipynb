{
 "cells": [
  {
   "cell_type": "markdown",
   "metadata": {},
   "source": [
    "---\n",
    "<div style=\"text-align:center; font-family:verdana;\">\n",
    "    <h1><strong>Simulación numérica del sistema de elución y\n",
    "filtrado de una planta de extracción</strong></h1>\n",
    "    <br>\n",
    "    <br>\n",
    "    <br>\n",
    "    <div>\n",
    "        Autor\n",
    "        <h2>Juan David Argüello Plata</h2>\n",
    "        Ingeniero mecánico\n",
    "    </div>\n",
    "    <br>\n",
    "    <br>\n",
    "    <br>\n",
    "    <i>Tesis de maestría en investigación para optar al título de maestro en ciencias en ingeniería mecánica</i>\n",
    "    <br>\n",
    "    <br>\n",
    "    <br>\n",
    "    <br>\n",
    "    <div>\n",
    "        Director\n",
    "        <h2>Omar Armando Gélvez Arocha</h2>\n",
    "        Ingeniero mecánico <i>M.Sc.</i>\n",
    "    </div>\n",
    "    <br>\n",
    "    <br>\n",
    "    <br>\n",
    "    <br>\n",
    "    <strong style=\"font-size:140%;\">Universidad Industrial de Santander</strong>\n",
    "    <br>\n",
    "    Facultad de ingenierías físicomecanicas\n",
    "    <br>\n",
    "    Escuela de ingeniería mecánica\n",
    "    <br>\n",
    "    Maestría en ingeniería mecánica\n",
    "    <br>\n",
    "    2020\n",
    "</div>"
   ]
  },
  {
   "cell_type": "markdown",
   "metadata": {},
   "source": [
    "---\n",
    "\n",
    "<h2 style=\"text-align:center\"><strong>Resumen</strong></h2>\n",
    "<div style=\"text-align:justify\">\n",
    "    El proceso de extracción basado en el método de dispersión de la matriz en fase sólida, MSPD, consiste de <strong>tres etapas</strong>. La primera es la <i>etapa de pretratamiento</i>, o de molienda, en donde se busca disminuir el tamaño de partícula del material orgánico con el fin de incrementar el área de transferencia de masa. La siguiente se trata de la <i>etapa de elución y filtrado</i>, en donde se produce la extracción de metabolitos secundarios a través de un solvente; luego, se filtra el material particulado para obtener la mezcla homogénea solvente - extracto. Finalmente, se desarrolla una <i>etapa de separación de sustancias</i>, en donde se separa el solvente del extracto (producto final).\n",
    "    <br>\n",
    "    <br>\n",
    "    Se propone una metodología de diseño automático del sistema de elución y filtrado que simule el comportamiento fluidodinámico durante la etapa de filtrado, permitiendo predecir el grado de concentración de partículas a lo largo del sistema a través de un modelo numérico basado en CFD-DEM. Esta metodología ha sido elaborada con herramientas de código abierto. Utilizando <i>Python</i> como lenguaje base, <i>Jupyter</i> como entorno de desarrollo, <i>ParaView</i> como plataforma de análisis de resultados y librerías de <i>C++</i> (como Yade, LIGGGHTS y OpenFoam) para el desarrollo de las simulaciones numéricas.\n",
    "</div>\n",
    "\n",
    "<br>\n",
    "\n",
    "___Palabras clave:___ CFD-DEM, MSPD, Python, Jupyter, ParaView, OpenFoam, Yade.\n",
    "\n",
    "---"
   ]
  },
  {
   "cell_type": "markdown",
   "metadata": {},
   "source": [
    "# __1. Introducción__\n",
    "\n",
    "<div style=\"text-align: justify\">\n",
    "    Los métodos numéricos son teoremas matemáticos que permiten describir la naturaleza de diferentes fenómenos de carácter físico-químico. Son ampliamente usados en ingeniería como metodologías predictivas durante el proceso de diseño funcional\n",
    "y mecánico. Para el análisis de comportamientos fluidodinámicos de partículas, es común encontrar estudios que combinen los métodos numéricos de <i>elementos discretos</i> y <i>volúmenes finitos</i>, o como es mejor conocido: <i>modelo CFD-DEM</i>.\n",
    "    <br>\n",
    "    <br>\n",
    "    El acoplamiento entre CFD-DEM se ha empleado cuando se busca desarrollar análisis de partículas y su interacción en medios viscosos. Ampliamente usado para análisis de lecho fluidizado[9], separadores de ciclón (Chu et al., 2009) y para el estudio de retención de partículas en medios filtrantes[10], por citar algunos ejemplos. Se han desarrollado estudios experimentales que corroboran la efectividad y viabilidad de las simulaciones numéricas que emplean CFD-DEM[9, 11]. \n",
    "    <br>\n",
    "    <br>\n",
    "    En el acoplamiento clásico entre CFD-DEM, el flujo se resuelve a través del método CFD basado en malla, mientras que la fase sólida es modelada mediante DEM para cada partícula sujeta a través de fuerzas hidrodinámicas, fuerzas de cuerpo (como la gravedad) y a través de fuerzas de contacto, actualizando valores de velocidad y posición conforme a la segunda ley de Newton (Hoomans et al., 1996; Tsuji et al., 1993; Xu y Yu, 1997). En principio, todos los métodos CFD pueden acoplarse con DEM; lo que ha dado origen a diferentes métodos discretos y continuos, tal como el método de Lattice Boltzmann (LBM), Hidrodinámica de Partículas Suaves (SPH), métodos de Diferencias Finitas y Volúmenes Finitos (FVM).\n",
    "    <br>\n",
    "    <br>\n",
    "    Gran parte de las simulaciones reportadas en la literatura comprenden modelos 2D o sistemas prototipados de pequeña escala. En busca de acelerar los tiempos de simulación e incrementar la eficiencia computacional, se han desarrollado técnicas de computación paralela; donde gran parte de los esfuerzos han sido enfocados en la paralelización del DEM. Muchos algoritmos se han propuesto para lograr este hecho, como la técnica de espejo de dominio (Damana, et al., 2006; Washington y Meegoda, 2003), el método de subconjunto de partículas (Kafui et al., 2011) y\n",
    "métodos de descomposición de dominios (Amritkar et al., 2014; Tsuji et al., 2008). El uso de estos algoritmos depende de la arquitectura del hardware. La paralelización sobre memoria compartida del sistema se alcanza, normalmente, empleando OpenMP (“Open Multi-Processing”, por sus siglas en inglés), mientras que el MPI (Interfaz de Paso de Mensajes) se emplea en sistemas de memoria distirbuida (Rabenseifner et al., 2009). Por ejemplo, Tsuji et al. (2008) paralelizaron una simulación en CFD-DEM usando MPI para el intercambio de información entre 16 CPUs, reportando el comportamiento fluidodinámico de 4.5 millones de partículas en un medio gaseoso; empleando el método unidimensional de descomposición de dominio.\n",
    "</div>\n",
    "\n",
    "# __2. Método de dispersión de la matriz en fase sólida - MSPD__\n",
    "\n",
    "<div style=\"text-align: justify\">\n",
    "    Se trata de un método de extracción ampliamente utilizado para el estudio de muestras biológicas. Existen más de 250 publicaciones en las que se emplea este método extractivo para el análisis de extractos de distintas naturalezas [3]. Esto se debe a la alta eficiencia y bajo costo del método de extracción.\n",
    "    <br>\n",
    "    <br>\n",
    "    El método consiste, básicamente, de tres etapas (como se puede observar en la Figura 1):\n",
    "</div>\n",
    "\n",
    "1. Maceración de la muestra con un agente dispersante (material particulado, normalmente compuesto de sílice).\n",
    "2. Elución con solvente y filtrado de la mezcla solvente - extracto.\n",
    "3. Separación de la mezcla solvente extracto mediante técnicas de evaporación al vacío, que permiten la reutilización del solvente en procesos de extracción posteriores.\n",
    "\n",
    "<div align=\"center\">\n",
    "    <img src=\"Images/mspd.PNG\" style=\"width: 300px;\" />\n",
    "</div>\n",
    "<div align=\"center\">\n",
    "    <i>Figura 1.</i> Método MSPD$^{[1]}$.\n",
    "</div>\n",
    "\n",
    "## 2.1. Factores a considerar en la extracción MSPD\n",
    "\n",
    "<div style=\"text-align:justify\">\n",
    "    Hay varios factores a considerar en la extracción MSPD, que incluye:\n",
    "</div>\n",
    "\n",
    "1. _Efecto del tamaño de partícula media:_ tamaños de partícula pequeños (entre $3 - 10 \\left[ \\mu m \\right]$) requiere de grandes tiempos de elución y altos gradientes de presión para obtener un flujo adecuado.\n",
    "2. _Agente dispersante_: el uso de silicatos infravalorados, como la arena de río, para la maceración de muestras presenta resultados diferentes a los reportados con agentes dispersantes como el $C_{18}$ o el $C_8$. A pesar de que el mismo principio de disrupción de la matriz se conserva, debido a la abrasión, es probable que se de una interacción química no deseada entre silicatos infravalorados y algunos de los flavonoides del extracto.\n",
    "3. _Relación másica_: la mejor relación másica reportada en la literatura frecuenta ser una relación 1 a 4 [3], aunque puede variar de una aplicación a otra.\n",
    "4. _Solvente_: el vertimiento del solvente en la columna MSPD tiene el fin de aislar analitos específicos o familias de compuestos. El tipo de solvente, y la polaridad de este, define la composición final del extracto. Existen estudios en donde se ha demostrado un incremento en el rendimiento extractivo al emplear solventes a temperaturas superiores a la temperatura ambiente e inferiores a los $60 [°C]$[8]."
   ]
  },
  {
   "cell_type": "markdown",
   "metadata": {},
   "source": [
    "# __3. Diseño del sistema__\n",
    "\n",
    "## 3.1. Generalidades\n",
    "\n",
    "Se requieren de los siguientes datos:"
   ]
  },
  {
   "cell_type": "code",
   "execution_count": 1,
   "metadata": {},
   "outputs": [
    {
     "data": {
      "application/vnd.jupyter.widget-view+json": {
       "model_id": "ae64029a9c6043c19fcbe58255d3187c",
       "version_major": 2,
       "version_minor": 0
      },
      "text/plain": [
       "Tab(children=(Accordion(children=(IntSlider(value=50), FloatText(value=28.0), FloatText(value=1.0), FloatText(…"
      ]
     },
     "metadata": {},
     "output_type": "display_data"
    }
   ],
   "source": [
    "from App.Generalidades.Data import *\n",
    "data = Datos()\n",
    "data"
   ]
  },
  {
   "cell_type": "markdown",
   "metadata": {},
   "source": [
    "Con base en los datos suministrados, las propiedades termodinámicas del solvente se pueden apreciar a continuación."
   ]
  },
  {
   "cell_type": "code",
   "execution_count": 2,
   "metadata": {},
   "outputs": [
    {
     "data": {
      "text/markdown": [
       "#### _Propiedades termodinámicas de la mezcla agua - etanol al $50[\\%] $_\n",
       "        "
      ],
      "text/plain": [
       "<IPython.core.display.Markdown object>"
      ]
     },
     "metadata": {},
     "output_type": "display_data"
    },
    {
     "data": {
      "text/markdown": [
       "| Propiedad | Valor |\n",
       "|---|---|\n",
       "| Densidad $[kg / m^3 ]$ | $889.4$ |\n",
       "| Viscosidad $[kg / m \\, s]$ | $1.06 \\, 10 ^{-6} $ |\n",
       "| Relación de densidades | $1.91$ |\n",
       "        "
      ],
      "text/plain": [
       "<IPython.core.display.Markdown object>"
      ]
     },
     "metadata": {},
     "output_type": "display_data"
    }
   ],
   "source": [
    "from App.Generalidades.Read import Read\n",
    "from App.Generalidades.Propiedades import *\n",
    "general = Read(data)\n",
    "prop = SolProp(general)()\n",
    "prop = prop['mezcla']"
   ]
  },
  {
   "cell_type": "markdown",
   "metadata": {},
   "source": [
    "## 3.2. Naturaleza del flujo\n",
    "\n",
    "El éxito de un sistema de sedimentación recae en la naturaleza del flujo durante el proceso de separación de sustancias. Siendo necesario que éste sea de carácter laminar para evitar reflujos. \n",
    "\n",
    "Asumiendo régimen laminar en la interacción _fluido - partícula_, la velocidad de sedimentación se calcula a través de la siguiente relación matemática.\n",
    "\n",
    "$$\n",
    "\\begin{equation}\n",
    "    V_{laminar} = \\frac{g}{18} \\left(S_s -1 \\right) \\, \\frac{d_{particula} ^2}{\\mu}\n",
    "\\end{equation}\n",
    "$$\n",
    "\n",
    "Con base en este valor de velocidad, el número de Reynolds se calcula de la siguiente forma:\n",
    "\n",
    "$$\n",
    "\\begin{equation}\n",
    "    Re = \\frac{V_{laminar} \\, d_{particula}}{\\mu}\n",
    "\\end{equation}\n",
    "$$"
   ]
  },
  {
   "cell_type": "code",
   "execution_count": 3,
   "metadata": {},
   "outputs": [
    {
     "data": {
      "text/markdown": [
       "La velocidad laminar tiene un valor de: $V_{laminar} = 46.938 [cm/s]$. El número de Reynolds tendría un valor de: $Re = 443.561$ a esta velocidad de flujo. Lo anterior significa que la interacción _fluido - partícula_ se encuentra en __régimen de transición__.\n",
       "        "
      ],
      "text/plain": [
       "<IPython.core.display.Markdown object>"
      ]
     },
     "metadata": {},
     "output_type": "display_data"
    }
   ],
   "source": [
    "from App.Sedimentation.Inicial import *\n",
    "Q = caudal(general['Fluido']['Volumen [L]'], general['Fluido']['Tiempo objetivo [h]'])\n",
    "res_inicial = ReyLaminar(general, prop, Q)()"
   ]
  },
  {
   "cell_type": "markdown",
   "metadata": {},
   "source": [
    "## 3.3. Dimensionamiento\n",
    "\n",
    "El sistema de filtrado se trata de un _equipo sedimentador de placas paralelas_. A continuación, se define la geometría preliminar del panel de lamelas para el diseño del sistema de sedimentación. "
   ]
  },
  {
   "cell_type": "code",
   "execution_count": 4,
   "metadata": {},
   "outputs": [
    {
     "data": {
      "application/vnd.jupyter.widget-view+json": {
       "model_id": "fb0dfa77e7de414aa689b42fd51f5e0e",
       "version_major": 2,
       "version_minor": 0
      },
      "text/plain": [
       "Tab(children=(Accordion(children=(FloatText(value=25.0), FloatText(value=20.0), FloatText(value=30.0), FloatTe…"
      ]
     },
     "metadata": {},
     "output_type": "display_data"
    }
   ],
   "source": [
    "from App.Generalidades.Lamelas import *\n",
    "geo = Geometry()\n",
    "geo"
   ]
  },
  {
   "cell_type": "code",
   "execution_count": 5,
   "metadata": {},
   "outputs": [
    {
     "data": {
      "text/markdown": [
       "El caudal requerido por el sistema es de $Q = 55.556 \\left[cm^3 /s \\right]$. Con base en la geometría dada, significa que la velocidad del fluido dentro de cada lamela es de $V = 4.444 [cm/min]$."
      ],
      "text/plain": [
       "<IPython.core.display.Markdown object>"
      ]
     },
     "metadata": {},
     "output_type": "display_data"
    }
   ],
   "source": [
    "from App.Generalidades.Read import *\n",
    "datos_geo = Read(geo, datos={'lamela':{}})\n",
    "datos_geo = datos_geo['lamela']\n",
    "lamela = Flujo_int(datos_geo, general)"
   ]
  },
  {
   "cell_type": "markdown",
   "metadata": {},
   "source": [
    "\n"
   ]
  },
  {
   "cell_type": "markdown",
   "metadata": {},
   "source": [
    "\n",
    "\n",
    "La velocidad crítica de sedimentación de las partículas se calcula a partir de la fórmula de Yao (Ecuación \\ref{yao}).\n",
    "\n",
    "$$\n",
    "\\begin{equation}\n",
    "    V_{sc} = \\frac{S_c \\, V_0}{\\sin \\theta + L_{rel} \\cos \\theta}\n",
    "    \\label{yao}\n",
    "    \\tag{1}\n",
    "\\end{equation}\n",
    "$$\n",
    "\n",
    "De la Ecuación \\ref{yao}, $S_c$ es una cosntante de sedimentación, cuyo valor es 1 para sistemas de placas paralelas, $V_0$ es la magnitud del flujo, $L_{rel}$ es la relación entre la longitud de una lamela y el ancho de la misma; y $\\theta$ es el ángulo de inclinación de las placas.\n",
    "\n",
    "La relación entre el ancho $e$ del conducto y la longitud $L$ tiene una importancia especial en la eficiencia de un sedimentador. Si esta relación $L_{rel}$ es muy pequeña, cada sedimentdor actúa como un sedimentador horizontal de corriente de baja velocidad.\n",
    "\n",
    "Para que un sedimentador pueda trabajar con alta vleocidad, es necesario que exista flujo laminar en las celdas, esto es que el número de Reynoles sea inferior a 250. Cualquier turbulencia puede generar arrastre de partículas, bajando notoriamente la eficiencia; razón por la que se emplea como criterio principal de diseño.\n",
    "\n",
    "$$\n",
    "\\begin{equation}\n",
    "    Re = \\frac{4 \\, V_0 \\, R_h}{\\mu}\n",
    "    \\label{Re_def}\n",
    "    \\tag{2}\n",
    "\\end{equation}\n",
    "$$\n",
    "\n",
    "En dónde $R_h$ es el radio hidráulico, cuyo valor está definido en la Ecuación \\ref{rh}.\n",
    "\n",
    "$$\n",
    "\\begin{equation}\n",
    "    R_h = \\frac{b \\, e}{2 \\left(b + e \\right)}\n",
    "    \\label{rh}\n",
    "    \\tag{3}\n",
    "\\end{equation}\n",
    "$$"
   ]
  },
  {
   "cell_type": "code",
   "execution_count": 6,
   "metadata": {},
   "outputs": [
    {
     "data": {
      "text/markdown": [
       "El valor de sedimentación crítica, de acuerdo a la _fórmula de Yao_, es de $V_{sc} = 0.135 \\cdot 10^{-3} [cm/s]$. A la velocidad de flujo dada, se tiene un número de Reynolds de $Re = 32.307$, garantizando un flujo laminar en dentro de las lamelas."
      ],
      "text/plain": [
       "<IPython.core.display.Markdown object>"
      ]
     },
     "metadata": {},
     "output_type": "display_data"
    }
   ],
   "source": [
    "from App.Sedimentation.ParOper import *\n",
    "res_oper = Parametros(general, prop, lamela, datos_geo)()"
   ]
  },
  {
   "cell_type": "markdown",
   "metadata": {},
   "source": [
    "## 3.4. Velocidad de sedimentación\n",
    "\n",
    "Conociendo las propiedades del solvente y del material particulado, se puede calcular la _velocidad de sedimentación_ de las partículas a parti de la Ecuación \\ref{Vsed}.\n",
    "\n",
    "$$\n",
    "\\begin{equation}\n",
    "    V_{sed} = 0.22 \\left(g \\frac{\\rho _{sol} - \\rho _{liq}}{\\rho _{liq}} \\right) ^{2/3} \\frac{d_{part}}{\\sqrt[3]{\\frac{\\mu}{\\rho _{liq}}}}\n",
    "    \\label{Vsed}\n",
    "    \\tag{4}\n",
    "\\end{equation}\n",
    "$$\n",
    "\n",
    "La eficiencia del sistema se calcula empleando la Ecuación \\ref{Ef}.\n",
    "\n",
    "$$\n",
    "\\begin{equation}\n",
    "    Ef = 1-\\frac{V_{sc}}{V_{sed}}\n",
    "    \\label{Ef}\n",
    "    \\tag{5}\n",
    "\\end{equation}\n",
    "$$"
   ]
  },
  {
   "cell_type": "code",
   "execution_count": 7,
   "metadata": {},
   "outputs": [
    {
     "data": {
      "text/markdown": [
       "La velocidad de sedimentación de las partículas es de $V_{sed} = 1.502 [cm/s]$. La _eficiencia_ del sistema de filtrado es del $99.101 \\%$."
      ],
      "text/plain": [
       "<IPython.core.display.Markdown object>"
      ]
     },
     "metadata": {},
     "output_type": "display_data"
    }
   ],
   "source": [
    "from App.Sedimentation.Resultados import *\n",
    "res_sed = Resul(prop, res_oper['V'], general['Solid'] )()"
   ]
  },
  {
   "cell_type": "markdown",
   "metadata": {},
   "source": [
    "## 3.5. Método de Hazen $\\rightarrow$ tiempo de sedimentación\n",
    "\n",
    "El concepto de carga hidráulica superficial (parámetro de Hazen) compara la\n",
    "velocidad de sedimentación de la partícula para conocer si alcanza a sedimentarse\n",
    "durante el trayecto por el sistema. La altura de sedimentación requerida se calcula\n",
    "mediante la Ecuación \\ref{Hsed}.\n",
    "\n",
    "$$\n",
    "\\begin{equation}\n",
    "    H_{sedimentacion} = \\frac{e}{\\cos \\theta}\n",
    "    \\label{Hsed}\n",
    "    \\tag{6}\n",
    "\\end{equation}\n",
    "$$\n",
    "\n",
    "El tiempo requerido para que la sedimentación se desarrolle se calcula de la siguiente forma:\n",
    "\n",
    "$$\n",
    "\\begin{equation}\n",
    "    t_{sed} = \\frac{H_{sedimentacion}}{V_{sed}}\n",
    "    \\tag{7}\n",
    "\\end{equation}\n",
    "$$"
   ]
  },
  {
   "cell_type": "code",
   "execution_count": 8,
   "metadata": {},
   "outputs": [
    {
     "data": {
      "text/markdown": [
       "La altura de sedimentación tiene un valor de $H_{sed} = 5.0 [cm]$. Es debido a ello que el tiempo de sedimentación es de $t_{sed} = 3.33 [s]$."
      ],
      "text/plain": [
       "<IPython.core.display.Markdown object>"
      ]
     },
     "metadata": {},
     "output_type": "display_data"
    }
   ],
   "source": [
    "Hazen = Tiempo(datos_geo['Ancho lamela [cm]'], datos_geo['Inclinación [°]'], res_sed['V_sed'])()"
   ]
  },
  {
   "cell_type": "markdown",
   "metadata": {},
   "source": [
    "## 3.6. Resultados\n",
    "\n",
    "El resumen de resultados obtenidos se pueden apreciar en la siguiente tabla:"
   ]
  },
  {
   "cell_type": "code",
   "execution_count": 9,
   "metadata": {},
   "outputs": [
    {
     "data": {
      "text/markdown": [
       "| Propiedad | Valor |\n",
       "|---|---|\n",
       "| Caudal sistema $[cm^3/s ]$ | 55.56 |\n",
       "| Vel. flujo lamela $[cm / min]$ | 4.44 |\n",
       "| Número Reynolds | 32.31 |\n",
       "| Vel. sedimentación $[cm/min]$ | 90.1 |\n",
       "| Eficiencia $[\\%]$ | 99.1 |\n",
       "| Tiempo sed. $[s]$ | 3.33 |\n",
       "        "
      ],
      "text/plain": [
       "<IPython.core.display.Markdown object>"
      ]
     },
     "metadata": {},
     "output_type": "display_data"
    }
   ],
   "source": [
    "TablaResumen(lamela, res_oper, res_sed, Hazen)"
   ]
  },
  {
   "cell_type": "markdown",
   "metadata": {},
   "source": [
    "# __4. Modelo CFD-DEM__\n",
    "\n",
    "El procedimiento para el planteamiento del modelo CFD-DEM consiste en lo siguiente:\n",
    "1. Definición de la geometría del sistema.\n",
    "2. Mallado de la geometría.\n",
    "3. Definición de condiciones de frontera\n",
    "4. Desarrollo de la simulación.\n",
    "5. Postprocesamiento y presentación de resultados.\n",
    "6. Análisis de resultados.\n",
    "\n",
    "## 4.1. Geometría\n",
    "\n",
    "Para definir la geometría del sistema, es necesario garantizar régimen laminar en todo el _volumen de control_. Para ello, la velocidad del flujo en la tubería de ingreso debe tener un número de Reynolds igual o inferior a 250. El diámetro de tubería que garantiza un régimen laminar está definido por la Ecuación \\ref{DT}\n",
    "\n",
    "$$\n",
    "\\begin{equation}\n",
    "    D_I \\geq \\frac{4 \\, Q_T}{Re \\, \\pi \\mu}\n",
    "    \\tag{8}\n",
    "    \\label{DT}\n",
    "\\end{equation}\n",
    "$$"
   ]
  },
  {
   "cell_type": "code",
   "execution_count": 10,
   "metadata": {},
   "outputs": [
    {
     "data": {
      "text/markdown": [
       "El diámetro de la tubería de ingreso tiene un valor de $D_I = 27.0 [cm]$"
      ],
      "text/plain": [
       "<IPython.core.display.Markdown object>"
      ]
     },
     "metadata": {},
     "output_type": "display_data"
    }
   ],
   "source": [
    "from IPython.display import display, Markdown\n",
    "from math import pi\n",
    "datos_geo['DI [m]'] = round((2*lamela['Q_T'])/(125*pi*prop['visc']),2)\n",
    "display(Markdown(\"El diámetro de la tubería de ingreso tiene un valor de $D_I = DT [cm]$\".replace(\"DT\", str(datos_geo['DI [m]']*100))))"
   ]
  },
  {
   "cell_type": "markdown",
   "metadata": {},
   "source": [
    "La geometría de interés se aprecia a continuación."
   ]
  },
  {
   "cell_type": "markdown",
   "metadata": {},
   "source": [
    "## 4.2. Mallado\n",
    "\n",
    "El mallado consiste en al discretizaciòn del dominio geométrico del problema.\n",
    "\n",
    "<div align=\"center\">\n",
    "    <img src=\"Images/Elemento.png\" style=\"width: 500px;\" />\n",
    "</div>\n",
    "<div align=\"center\">\n",
    "    <i>Figura 2.</i> Discretización del dominio.\n",
    "</div>\n",
    "\n",
    "El mallado de la geometría dada se especifica a continuación."
   ]
  },
  {
   "cell_type": "code",
   "execution_count": 11,
   "metadata": {},
   "outputs": [
    {
     "data": {
      "application/vnd.jupyter.widget-view+json": {
       "model_id": "91a834a3aa974ccfb98426781dbb3887",
       "version_major": 2,
       "version_minor": 0
      },
      "text/plain": [
       "Tab(children=(Accordion(children=(IntRangeSlider(value=(1000, 20000), continuous_update=False, description='Ra…"
      ]
     },
     "metadata": {},
     "output_type": "display_data"
    }
   ],
   "source": [
    "from App.CFD_DEM.Geom import *\n",
    "from App.Generalidades.Read import *\n",
    "size = Malla()\n",
    "size"
   ]
  },
  {
   "cell_type": "code",
   "execution_count": 12,
   "metadata": {},
   "outputs": [
    {
     "data": {
      "image/png": "[encoded data removed]",
      "text/plain": [
       "<PIL.Image.Image image mode=RGB size=1024x768 at 0x7F17DA12C4A8>"
      ]
     },
     "metadata": {},
     "output_type": "display_data"
    }
   ],
   "source": [
    "import warnings\n",
    "datos_geo = ReadMesh(size)\n",
    "datos_geo['DI [m]'] = round((2*lamela['Q_T'])/(125*pi*prop['visc']),2)\n",
    "warnings.filterwarnings('ignore')\n",
    "Dibujar(datos_geo, lamela, size.children[0].children[0].value, size.children[0].children[1].value, general['Solid']['Tamaño de partícula medio [um]'])"
   ]
  },
  {
   "cell_type": "markdown",
   "metadata": {},
   "source": [
    "La malla desarrollada presenta las siguientes características:"
   ]
  },
  {
   "cell_type": "code",
   "execution_count": 13,
   "metadata": {},
   "outputs": [
    {
     "data": {
      "text/html": [
       "<table><tr><th>Header</th><th>Data Arrays</th></tr><tr><td>\n",
       "<table>\n",
       "<tr><th>UnstructuredGrid</th><th>Information</th></tr>\n",
       "<tr><td>N Cells</td><td>12044</td></tr>\n",
       "<tr><td>N Points</td><td>12052</td></tr>\n",
       "<tr><td>X Bounds</td><td>0.000e+00, 5.005e-01</td></tr>\n",
       "<tr><td>Y Bounds</td><td>-4.700e-01, 2.000e-01</td></tr>\n",
       "<tr><td>Z Bounds</td><td>0.000e+00, 1.000e-03</td></tr>\n",
       "<tr><td>N Arrays</td><td>2</td></tr>\n",
       "</table>\n",
       "\n",
       "</td><td>\n",
       "<table>\n",
       "<tr><th>Name</th><th>Field</th><th>Type</th><th>N Comp</th><th>Min</th><th>Max</th></tr>\n",
       "<tr><td><b>gmsh:physical</b></td><td>Cells</td><td>int32</td><td>1</td><td>1.000e+00</td><td>1.000e+01</td></tr>\n",
       "<tr><td>gmsh:geometrical</td><td>Cells</td><td>int32</td><td>1</td><td>1.000e+00</td><td>5.800e+01</td></tr>\n",
       "</table>\n",
       "\n",
       "</td></tr> </table>"
      ],
      "text/plain": [
       "UnstructuredGrid (0x7f17d51332e8)\n",
       "  N Cells:\t12044\n",
       "  N Points:\t12052\n",
       "  X Bounds:\t0.000e+00, 5.005e-01\n",
       "  Y Bounds:\t-4.700e-01, 2.000e-01\n",
       "  Z Bounds:\t0.000e+00, 1.000e-03\n",
       "  N Arrays:\t2"
      ]
     },
     "execution_count": 13,
     "metadata": {},
     "output_type": "execute_result"
    }
   ],
   "source": [
    "import pyvista as pv\n",
    "res_malla = pv.read(\"out.vtk\")\n",
    "res_malla"
   ]
  },
  {
   "cell_type": "markdown",
   "metadata": {},
   "source": [
    "Resultados de la evaluación de malla a través del comando `checkMesh`, de OpenFoam:"
   ]
  },
  {
   "cell_type": "code",
   "execution_count": 14,
   "metadata": {},
   "outputs": [
    {
     "data": {
      "text/markdown": [
       "|__Parámetro__|__Valor__|\n",
       "|--------|-------------|\n",
       "|Apertura _máxima_ entre elementos| 21.3547|\n",
       "|Checkeo de _no_ ortogonalidad|OK. |\n",
       "|Oblicuidad máxima|2.56647 OK. |\n",
       "|Conclusión de malla|OK.|\n",
       "        "
      ],
      "text/plain": [
       "<IPython.core.display.Markdown object>"
      ]
     },
     "metadata": {},
     "output_type": "display_data"
    },
    {
     "data": {
      "text/plain": [
       "<App.CFD_DEM.Malla.ToFoam at 0x7f17da1dbd68>"
      ]
     },
     "execution_count": 14,
     "metadata": {},
     "output_type": "execute_result"
    }
   ],
   "source": [
    "from App.CFD_DEM.Malla import *\n",
    "ToFoam()"
   ]
  },
  {
   "cell_type": "markdown",
   "metadata": {},
   "source": [
    "## 4.3. Condiciones de frontera\n",
    "\n",
    "Como se aprecia en la Figura , el volumen de control presenta una _entrada_ y una _salida_. También cuenta con una zona de lodos, en donde se deposita parte del material particulado que se busca separar. Las condiciones de frontera, que son tanto de tipo _Dirichlet_ y _Neumann_, se pueden apreciar a continuación.\n"
   ]
  },
  {
   "cell_type": "code",
   "execution_count": 15,
   "metadata": {},
   "outputs": [
    {
     "data": {
      "text/markdown": [
       "|__Zona__|__Propiedad__|__Valor__|__Tipo__|\n",
       "|--------|-------------|--------|-----------|\n",
       "|_Entrada_| Velocidad $[cm/h]$ |0.074 |Neumann|\n",
       "|_Salida_ | Presión $[KPa]$    | 101.325| Dirichlet|\n",
       "        "
      ],
      "text/plain": [
       "<IPython.core.display.Markdown object>"
      ]
     },
     "metadata": {},
     "output_type": "display_data"
    },
    {
     "data": {
      "text/plain": [
       "<App.CFD_DEM.CF.Condiciones at 0x7f17da1ea198>"
      ]
     },
     "execution_count": 15,
     "metadata": {},
     "output_type": "execute_result"
    }
   ],
   "source": [
    "from App.CFD_DEM.CF import *\n",
    "Condiciones(lamela['V_L'])"
   ]
  },
  {
   "cell_type": "markdown",
   "metadata": {},
   "source": [
    "## 4.4. Desarrollo de la simulación\n",
    "\n",
    "La simulación numérica a realizar comprende dos métodos numéricos: el método de _volúmenes finitos_ (FVM, por sus siglas en inglés), con el cual se predice el comportamiento fluidodinámico dentro del volumen de control, y el método de _elementos discretos_ (DEM, por sus siglas en inglés), con el que se predice el comportamiento dinámico de las partículas sólidas y su interacción con el solvente.\n",
    "\n",
    "### 4.4.1. CFD\n",
    "La _Dinámica de Fluidos Computacional_ (CFD) es una herramienta computacional ampliamente usada en ingeniería para el desarrollo de simulaciones numéricas que involucren fluidos. Emplea como método base el método de volúmenes finitos (FVM). Este método numérico transforma las ecuaciones diferenciales parciales, que representan las leyes conservativas, en ecuaciones algebraicas discretas sobre volúmenes finitos.\n",
    "\n",
    "Como se observa en el subcapítulo 4.2., el análisis de este sistema se trata de un problema _bidimensional_ (2D); de modo que la discretización del dominio se plantea de de la siguiente forma:\n",
    "\n",
    "<div align=\"center\">\n",
    "    <img src=\"Images/malla.png\" style=\"width: 250px;\" />\n",
    "</div>\n",
    "<div align=\"center\">\n",
    "    <i>Figura 2.</i> Discretización del dominio bidimensional.\n",
    "</div>\n",
    "\n",
    "En donde la Ecuación _general_ del problema bidimensional transitorio que se busca resolver se puede apreciar en la Ecuación \\ref{2D}.\n",
    "\n",
    "$$\n",
    "\\begin{equation}\n",
    "    \\underbrace{\\rho \\frac{\\partial \\phi}{\\partial t}}_{\\text{transitorio}} + \\underbrace{\\rho u \\frac{\\partial \\phi}{\\partial x} + \\rho v \\frac{\\partial \\phi}{\\partial y}}_{\\text{convectivo}} = \\underbrace{ \\frac{\\partial}{\\partial x} \\left( \\Gamma \\frac{\\partial \\phi}{\\partial x} \\right) + \\frac{\\partial}{\\partial y} \\left( \\Gamma \\frac{\\partial \\phi}{\\partial y} \\right)}_{\\text{difusivo}} + \\underbrace{S_{\\phi}}_{\\text{fuente}}\n",
    "    \\tag{9}\n",
    "    \\label{2D}\n",
    "\\end{equation}\n",
    "$$\n",
    "\n",
    "De la Ecuación \\ref{2D}: \n",
    "\n",
    "\n",
    "El _comportamiento_ fluidodinámico del problema se puede observar a continuación a través de la ejecución del siguiente algoritmo. "
   ]
  },
  {
   "cell_type": "code",
   "execution_count": 16,
   "metadata": {},
   "outputs": [
    {
     "name": "stderr",
     "output_type": "stream",
     "text": [
      "WARNING:root:Appending zeros to replace the missing physical tag data.\n",
      "WARNING:root:Appending zeros to replace the missing geometrical tag data.\n"
     ]
    },
    {
     "data": {
      "image/png": "[encoded data removed]",
      "text/plain": [
       "<PIL.Image.Image image mode=RGB size=1024x768 at 0x7F17E1AD4780>"
      ]
     },
     "metadata": {},
     "output_type": "display_data"
    }
   ],
   "source": [
    "import pygmsh\n",
    "import pyvista as pv\n",
    "import os\n",
    "\n",
    "with pygmsh.geo.Geometry() as geom:\n",
    "    poly = geom.add_polygon(\n",
    "        [\n",
    "            [0.0, 0.0],\n",
    "            [1.0, -0.2],\n",
    "            [1.1, 1.2],\n",
    "            [0.1, 0.7],\n",
    "        ],\n",
    "        mesh_size=0.1,\n",
    "    )\n",
    "    top, volume, lat = geom.extrude(poly, [0.0, 0.3, 1.0])\n",
    "    geom.add_physical(volume, label=\"volume\")\n",
    "\n",
    "    mesh = geom.generate_mesh()\n",
    "    mesh.write( \"prueba.vtk\")\n",
    "    #mesh.write(\"prueba.msh\", file_format=\"ansys\")\n",
    "    mesh.write( \"prueba.msh\", file_format=\"gmsh22\", binary=False)\n",
    "    file = \"prueba.vtk\"\n",
    "    saved_file = os.getcwd() + '/' + file\n",
    "    dolfin = pv.read(saved_file)\n",
    "    qual = dolfin.compute_cell_quality()\n",
    "    #self.convertir()\n",
    "    qual.plot(show_edges=True)"
   ]
  },
  {
   "cell_type": "code",
   "execution_count": 17,
   "metadata": {},
   "outputs": [
    {
     "name": "stderr",
     "output_type": "stream",
     "text": [
      "WARNING:root:VTK ASCII files are only meant for debugging.\n"
     ]
    },
    {
     "name": "stdout",
     "output_type": "stream",
     "text": [
      "---- Surfaces\n",
      "{'xz': [None, array([ 0,  1,  2,  3,  4,  5,  6,  7,  8,  9, 10, 11, 12, 13, 14, 15, 16,\n",
      "       17, 18, 19, 20, 21, 22, 23, 24, 25, 26, 27, 28, 29, 30, 31, 32, 33,\n",
      "       34, 35, 36, 37, 38, 39, 40, 41, 42, 43, 44, 45, 46, 47, 48],\n",
      "      dtype=uint64), None, None], 'xy': [None, array([49, 50, 51, 52, 53, 54, 55, 56, 57, 58, 59, 60, 61, 62, 63, 64, 65,\n",
      "       66, 67, 68, 69, 70, 71, 72, 73, 74, 75, 76, 77, 78, 79, 80, 81, 82,\n",
      "       83, 84, 85, 86, 87, 88, 89, 90, 91, 92, 93, 94, 95, 96, 97],\n",
      "      dtype=uint64), None, None], 'yz': [None, array([ 98,  99, 100, 101, 102, 103, 104, 105, 106, 107, 108, 109, 110,\n",
      "       111, 112, 113, 114, 115, 116, 117, 118, 119, 120, 121, 122, 123,\n",
      "       124, 125, 126, 127, 128, 129, 130, 131, 132, 133, 134, 135, 136,\n",
      "       137, 138, 139, 140, 141, 142, 143, 144, 145, 146], dtype=uint64), None, None], 'xyz': [None, array([147, 148, 149, 150, 151, 152, 153, 154, 155, 156, 157, 158, 159,\n",
      "       160, 161, 162, 163, 164, 165, 166, 167, 168, 169, 170, 171, 172,\n",
      "       173, 174, 175, 176, 177, 178, 179, 180, 181, 182, 183, 184, 185,\n",
      "       186, 187, 188, 189, 190, 191, 192, 193, 194, 195, 196, 197, 198,\n",
      "       199, 200, 201, 202, 203, 204, 205, 206, 207, 208, 209, 210, 211,\n",
      "       212, 213, 214, 215, 216, 217, 218, 219, 220, 221, 222, 223, 224,\n",
      "       225, 226, 227], dtype=uint64), None, None]}\n",
      "--- Triangular Facets on Surface xz\n",
      "[array([[ 4, 56,  0],\n",
      "       [ 0, 56, 14],\n",
      "       [27,  8,  1],\n",
      "       [ 3, 18, 34],\n",
      "       [ 5, 44,  4],\n",
      "       [44, 56,  4],\n",
      "       [ 6, 48,  5],\n",
      "       [ 5, 48, 44],\n",
      "       [ 7, 46,  6],\n",
      "       [46, 48,  6],\n",
      "       [ 8, 54,  7],\n",
      "       [ 7, 54, 46],\n",
      "       [27, 54,  8],\n",
      "       [14, 51, 15],\n",
      "       [14, 56, 51],\n",
      "       [15, 45, 16],\n",
      "       [15, 51, 45],\n",
      "       [16, 57, 17],\n",
      "       [45, 57, 16],\n",
      "       [17, 53, 18],\n",
      "       [47, 53, 17],\n",
      "       [17, 57, 47],\n",
      "       [18, 53, 34],\n",
      "       [28, 54, 27],\n",
      "       [29, 46, 28],\n",
      "       [46, 54, 28],\n",
      "       [30, 49, 29],\n",
      "       [29, 49, 46],\n",
      "       [31, 43, 30],\n",
      "       [43, 49, 30],\n",
      "       [32, 50, 31],\n",
      "       [31, 50, 43],\n",
      "       [33, 47, 32],\n",
      "       [47, 50, 32],\n",
      "       [34, 53, 33],\n",
      "       [33, 53, 47],\n",
      "       [43, 52, 49],\n",
      "       [50, 55, 43],\n",
      "       [43, 55, 52],\n",
      "       [48, 52, 44],\n",
      "       [44, 52, 51],\n",
      "       [51, 56, 44],\n",
      "       [45, 55, 50],\n",
      "       [50, 57, 45],\n",
      "       [51, 55, 45],\n",
      "       [46, 49, 48],\n",
      "       [47, 57, 50],\n",
      "       [49, 52, 48],\n",
      "       [52, 55, 51]], dtype=uint64)]\n"
     ]
    }
   ],
   "source": [
    "import pygmsh as pg\n",
    "\n",
    "with pg.occ.Geometry() as geom:\n",
    "    #  Points\n",
    "    pts =  [\n",
    "        [0, 0, 0],\n",
    "        [1, 0, 0],\n",
    "        [0, 1, 0],\n",
    "        [0, 0, 1],\n",
    "    ]\n",
    "    kps =  [geom.add_point(pt) for pt in pts]\n",
    "    \n",
    "    # Edges\n",
    "    edges = [\n",
    "        [0, 1],\n",
    "        [0, 2],\n",
    "        [0, 3],\n",
    "        [1, 2],\n",
    "        [1, 3],\n",
    "        [2, 3]\n",
    "    ]\n",
    "    kes = [geom.add_line(*[kps[k] for k in edge]) for edge in edges]\n",
    "\n",
    "    # Surfaces\n",
    "    loop_xz = [kes[0], kes[4], -kes[2]]\n",
    "    loop_xy = [kes[0], kes[3], -kes[1]]\n",
    "    loop_yz = [kes[1], kes[5], -kes[2]]\n",
    "    loop_xyz = [kes[3], kes[5], -kes[4]]\n",
    "    loops = [loop_xz, loop_xy, loop_yz, loop_xyz]\n",
    "    names = ['xz', 'xy', 'yz', 'xyz']\n",
    "    kss = []\n",
    "    for loop, name in zip(loops, names):\n",
    "        kl = geom.add_curve_loop(loop)\n",
    "        ks = geom.add_plane_surface(kl)\n",
    "        kss.append(ks)\n",
    "        geom.add_physical(ks, name)\n",
    "\n",
    "    # Volume\n",
    "    surf_loop = geom.add_surface_loop(kss)\n",
    "    v = geom.add_volume(surf_loop)\n",
    "    \n",
    "    # Mesh\n",
    "    mesh = geom.generate_mesh()\n",
    "    mesh.write(\"Piramide.vtk\", binary=False)\n",
    "    \"\"\"\n",
    "    mesh.write( \"prueba2.stl\", file_format=\"stl\")\n",
    "    file = \"prueba2.vtk\"\n",
    "    saved_file = os.getcwd() + '/' + file\n",
    "    dolfin = pv.read(saved_file)\n",
    "    qual = dolfin.compute_cell_quality()\n",
    "    #self.convertir()\n",
    "    qual.plot(show_edges=True)\n",
    "    \"\"\"\n",
    "\n",
    "    # Show Facets\n",
    "    print('---- Surfaces')\n",
    "    print(mesh.cell_sets)\n",
    "    print('--- Triangular Facets on Surface xz')\n",
    "    print([mesh.cells[1].data[mesh.cell_sets['xz'][1]]])"
   ]
  },
  {
   "cell_type": "code",
   "execution_count": 18,
   "metadata": {},
   "outputs": [
    {
     "data": {
      "image/png": "[encoded data removed]",
      "text/plain": [
       "<PIL.Image.Image image mode=RGB size=1024x768 at 0x7F17E1ACF908>"
      ]
     },
     "metadata": {},
     "output_type": "display_data"
    }
   ],
   "source": [
    "#from helpers import compute_volume\n",
    "\n",
    "import pygmsh\n",
    "import os\n",
    "\n",
    "\n",
    "def test():\n",
    "    with pygmsh.geo.Geometry() as geom:\n",
    "        rectangle = geom.add_rectangle(0.0, 1.0, 0.0, 1.0, 0.0, 0.1)\n",
    "        geom.set_recombined_surfaces([rectangle.surface])\n",
    "        mesh = geom.generate_mesh()\n",
    "        \n",
    "\n",
    "    ref = 0.1\n",
    "    #assert abs(compute_volume(mesh) - ref) < 1.0e-2 * ref\n",
    "    \n",
    "    mesh.write( \"quads.vtk\")\n",
    "    file = \"quads.vtk\"\n",
    "    saved_file = os.getcwd() + '/' + file\n",
    "    dolfin = pv.read(saved_file)\n",
    "    qual = dolfin.compute_cell_quality()\n",
    "    #self.convertir()\n",
    "    qual.plot(show_edges=True)\n",
    "\n",
    "\n",
    "test()\n"
   ]
  }
 ],
 "metadata": {
  "kernelspec": {
   "display_name": "Python 3",
   "language": "python",
   "name": "python3"
  },
  "language_info": {
   "codemirror_mode": {
    "name": "ipython",
    "version": 3
   },
   "file_extension": ".py",
   "mimetype": "text/x-python",
   "name": "python",
   "nbconvert_exporter": "python",
   "pygments_lexer": "ipython3",
   "version": "3.6.8"
  }
 },
 "nbformat": 4,
 "nbformat_minor": 4
}
