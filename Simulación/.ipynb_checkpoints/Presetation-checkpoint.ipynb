{
 "cells": [
  {
   "cell_type": "markdown",
   "metadata": {
    "slideshow": {
     "slide_type": "slide"
    }
   },
   "source": [
    "<div align=\"center\">\n",
    "    <h1><strong>Software de diseño automático</strong></h1>\n",
    "</div>"
   ]
  },
  {
   "cell_type": "markdown",
   "metadata": {
    "slideshow": {
     "slide_type": "-"
    }
   },
   "source": [
    "---\n",
    "\n",
    "<h2 style=\"text-align:center\"><strong>Resumen</strong></h2>\n",
    "<div style=\"text-align:justify\">\n",
    "    <br>\n",
    "    Se desarrolló una metodología de diseño automático del sistema de elución y filtrado que simula el comportamiento fluidodinámico durante la etapa de filtrado, permitiendo predecir el grado de concentración de partículas a lo largo del sistema a través de un modelo numérico basado en CFD-DEM. Esta metodología ha sido elaborada con herramientas de código abierto. Utilizando <i>Python</i> como lenguaje base, <i>Jupyter</i> como entorno de desarrollo, <i>ParaView</i> como plataforma de análisis de resultados y librerías de <i>C++</i> (como Yade, LIGGGHTS y OpenFOAM) para el desarrollo de las simulaciones numéricas.\n",
    "</div>\n",
    "\n",
    "<br>\n",
    "\n",
    "___Palabras clave:___ CFD-DEM, OpenFOAM, Python, Jupyter, ParaView.\n",
    "\n",
    "---"
   ]
  },
  {
   "cell_type": "markdown",
   "metadata": {
    "slideshow": {
     "slide_type": "slide"
    }
   },
   "source": [
    "# __5. Diseño del sistema__\n",
    "\n",
    "El diseño del sedimentador de placas paralelas se resume en lo siguiente:\n",
    "\n",
    "1. Definición de propiedades del _fluido_ y _material particulado_.\n",
    "2. Cálculo de las propiedades termodinámicas del fluido.\n",
    "3. Definición de la geometría del panel de lamelas.\n",
    "4. Cálculo de propiedades de flujo.\n",
    "5. Resultados."
   ]
  },
  {
   "cell_type": "markdown",
   "metadata": {
    "slideshow": {
     "slide_type": "subslide"
    }
   },
   "source": [
    "## 5.1. Generalidades\n",
    "\n",
    "Define las propiedades del _fluido_ y _material particulado_:"
   ]
  },
  {
   "cell_type": "code",
   "execution_count": null,
   "metadata": {
    "slideshow": {
     "slide_type": "-"
    }
   },
   "outputs": [],
   "source": [
    "from App.Generalidades.Data import *\n",
    "data = Datos()\n",
    "data"
   ]
  },
  {
   "cell_type": "markdown",
   "metadata": {
    "slideshow": {
     "slide_type": "subslide"
    }
   },
   "source": [
    "Con base en los datos suministrados, las propiedades termodinámicas del solvente se pueden apreciar a continuación."
   ]
  },
  {
   "cell_type": "code",
   "execution_count": null,
   "metadata": {
    "slideshow": {
     "slide_type": "-"
    }
   },
   "outputs": [],
   "source": [
    "from App.Generalidades.Read import Read\n",
    "from App.Generalidades.Propiedades import *\n",
    "general = Read(data)\n",
    "prop = SolProp(general)()\n",
    "prop = prop['mezcla']"
   ]
  },
  {
   "cell_type": "markdown",
   "metadata": {
    "slideshow": {
     "slide_type": "subslide"
    }
   },
   "source": [
    "## 5.2. Velocidad de sedimentación\n",
    "\n",
    "Conociendo las propiedades del solvente y del material particulado, se puede calcular la _velocidad de sedimentación_ de las partículas a parti de la Ecuación \\ref{Vsed}.\n",
    "\n",
    "$$\n",
    "\\begin{equation}\n",
    "    U_{max} = \\sqrt{\\frac{2 V \\left(\\rho _s - \\rho _f \\right) g}{C \\, A_n \\, \\rho _f}}   \n",
    "    \\label{Vsed}\n",
    "    \\tag{1}\n",
    "\\end{equation}\n",
    "$$\n",
    "\n",
    "El coeficiente de arrastre $C$ se calcula de la siguiente forma:\n",
    "\n",
    "$$\n",
    "    \\begin{equation}\n",
    "        C = \\frac{24}{Re_s} + \\frac{3}{Re _s ^{1/2}} + 0.34\n",
    "        \\tag{2}\n",
    "    \\end{equation}\n",
    "$$\n",
    "\n",
    "El número de Reynolds del fluido colindante con la partícula sólida se calucla como se muestra en la Ecuación \\ref{Res}.\n",
    "\n",
    "$$\n",
    "    \\begin{equation}\n",
    "        Re _s = \\frac{d_p \\, U}{\\mu}\n",
    "        \\label{Res}\n",
    "        \\tag{3}\n",
    "    \\end{equation}\n",
    "$$\n",
    "\n",
    "Para resolver la Ecuación \\ref{Vsed}, es necesario emplear un proceso iterativo de cálculo."
   ]
  },
  {
   "cell_type": "code",
   "execution_count": null,
   "metadata": {},
   "outputs": [],
   "source": [
    "from App.Sedimentation.Calculos import *\n",
    "dataV = VelSed(general['Solid'], prop)()"
   ]
  },
  {
   "cell_type": "markdown",
   "metadata": {
    "slideshow": {
     "slide_type": "subslide"
    }
   },
   "source": [
    "## 5.3. Dimensionamiento\n",
    "\n",
    "A continuación, se define la geometría del panel de lamelas para el diseño del sistema de sedimentación. "
   ]
  },
  {
   "cell_type": "code",
   "execution_count": null,
   "metadata": {},
   "outputs": [],
   "source": [
    "from App.Generalidades.Lamelas import *\n",
    "geo = Geometry()\n",
    "geo "
   ]
  },
  {
   "cell_type": "code",
   "execution_count": null,
   "metadata": {},
   "outputs": [],
   "source": [
    "#%matplotlib\n",
    "datos_geo = Read(geo, datos={'lamela':{}})\n",
    "datos_geo = datos_geo['lamela']\n",
    "lamela = Lamela(general['Fluido'], prop, datos_geo, dataV)()"
   ]
  },
  {
   "cell_type": "markdown",
   "metadata": {},
   "source": [
    "## 5.5. Tubería de entrada y tolva de sedimentos\n",
    "\n",
    "El diámetro de entrada de la mezcla sólido-líquido se calcula de la siguiente forma:\n",
    "\n",
    "$$\n",
    "\\begin{equation}\n",
    "    D_e = \\frac{4 Q}{Re \\, \\pi \\, \\mu}\n",
    "    \\tag{7}\n",
    "    \\label{De}\n",
    "\\end{equation}\n",
    "$$\n",
    "\n",
    "De la Ecuación \\ref{De}, $Re \\leq 250$.\n",
    "\n",
    "La tubería de desagüe se calcula con base en la Ecuación \\ref{des}.\n",
    "\n",
    "$$\n",
    "\\begin{equation}\n",
    "    S = \\frac{A}{4850 \\, t} \\sqrt{d}\n",
    "    \\tag{8}\n",
    "    \\label{des}\n",
    "\\end{equation}\n",
    "$$\n",
    "\n",
    "El tiempo de retención $t$ se calcula de la siguiente forma:\n",
    "\n",
    "$$\n",
    "\\begin{equation}\n",
    "    t = \\frac{L}{v_0}\n",
    "    \\tag{9}\n",
    "    \\label{tr}\n",
    "\\end{equation}\n",
    "$$\n",
    "\n",
    "El diámetro de la tubería de desagüe se calcula con base en la Ecuación \\ref{Ds}.\n",
    "\n",
    "$$\n",
    "\\begin{equation}\n",
    "    D_s = 2 \\sqrt{\\frac{S}{\\pi}}\n",
    "    \\tag{10}\n",
    "    \\label{Ds}\n",
    "\\end{equation}\n",
    "$$\n",
    "\n"
   ]
  },
  {
   "cell_type": "markdown",
   "metadata": {},
   "source": [
    "## 5.4. Velocidad crítica de sedimentación"
   ]
  },
  {
   "cell_type": "markdown",
   "metadata": {},
   "source": [
    "La velocidad crítica de sedimentación de las partículas se calcula a partir de la Ecuación \\ref{yao}.\n",
    "\n",
    "$$\n",
    "\\begin{equation}\n",
    "    U_{c} = \\frac{v_0}{\\sin \\theta + \\frac{L}{b} \\cos \\theta}\n",
    "    \\label{yao}\n",
    "    \\tag{6}\n",
    "\\end{equation}\n",
    "$$\n",
    "\n",
    "De la Ecuación \\ref{yao}, $v_0$ es la magnitud del flujo, $\\frac{L}{b}$ es la relación entre la longitud de una lamela y el ancho de la misma; y $\\theta$ es el ángulo de inclinación de las placas."
   ]
  },
  {
   "cell_type": "code",
   "execution_count": null,
   "metadata": {},
   "outputs": [],
   "source": [
    "VelCr(lamela, datos_geo)"
   ]
  },
  {
   "cell_type": "markdown",
   "metadata": {
    "slideshow": {
     "slide_type": "slide"
    }
   },
   "source": [
    "# __6. Modelo CFD-DEM__\n",
    "\n",
    "El procedimiento para el planteamiento del modelo CFD-DEM consiste en lo siguiente:\n",
    "1. Definición de la geometría del sistema.\n",
    "2. Mallado de la geometría.\n",
    "3. Definición de condiciones de frontera\n",
    "4. Desarrollo de la simulación.\n",
    "5. Postprocesamiento y presentación de resultados.\n",
    "6. Análisis de resultados.\n",
    "\n"
   ]
  },
  {
   "cell_type": "markdown",
   "metadata": {
    "slideshow": {
     "slide_type": "subslide"
    }
   },
   "source": [
    "## 6.1. Discretización del dominio\n",
    "El mallado consiste en al discretizaciòn del dominio geométrico del problema.\n",
    "\n",
    "<div align=\"center\">\n",
    "    <img src=\"Images/Elemento.png\" style=\"width: 300px;\" />\n",
    "</div>\n",
    "<div align=\"center\">\n",
    "    <i>Figura 2.</i> Discretización del dominio.\n",
    "</div>\n",
    "\n",
    "El mallado de la geometría se especifica a continuación."
   ]
  },
  {
   "cell_type": "code",
   "execution_count": 8,
   "metadata": {},
   "outputs": [
    {
     "data": {
      "application/vnd.jupyter.widget-view+json": {
       "model_id": "79456e344fcd42de9f17701a9a21771c",
       "version_major": 2,
       "version_minor": 0
      },
      "text/plain": [
       "HBox(children=(Tab(children=(Accordion(children=(IntRangeSlider(value=(4000, 20000), continuous_update=False, …"
      ]
     },
     "metadata": {},
     "output_type": "display_data"
    }
   ],
   "source": [
    "from App.CFD_DEM.Geom import *\n",
    "from App.Generalidades.Read import *\n",
    "from ipywidgets import Button, Layout, HBox\n",
    "size = Malla(round((2*lamela['QT'])/(125*pi*prop['visc']),2), datos_geo)\n",
    "a = HBox([size], layout=Layout(height='200px', overflow_y='auto'))\n",
    "display(a)"
   ]
  },
  {
   "cell_type": "code",
   "execution_count": 9,
   "metadata": {
    "slideshow": {
     "slide_type": "subslide"
    }
   },
   "outputs": [
    {
     "data": {
      "image/png": "[encoded data removed]",
      "text/plain": [
       "<PIL.Image.Image image mode=RGB size=1024x768 at 0x7FA5297876D0>"
      ]
     },
     "metadata": {},
     "output_type": "display_data"
    }
   ],
   "source": [
    "import warnings\n",
    "datos_geo = ReadMesh(size)\n",
    "datos_geo['DI [m]'] = round((2*lamela['QT'])/(125*pi*prop['visc']),2)\n",
    "warnings.filterwarnings('ignore')\n",
    "DEM = False      #Cambiar modelo de malla en el directorio CFD-DEM\n",
    "Dibujar(datos_geo, lamela, size.children[0].children[0].value, size.children[0].children[1].value, general['Solid']['Tamaño de partícula medio [um]'], (size.children[2].children[0].value, size.children[2].children[1].value), DEM)"
   ]
  },
  {
   "cell_type": "markdown",
   "metadata": {
    "slideshow": {
     "slide_type": "subslide"
    }
   },
   "source": [
    "La malla desarrollada presenta las siguientes características:"
   ]
  },
  {
   "cell_type": "code",
   "execution_count": 10,
   "metadata": {
    "slideshow": {
     "slide_type": "-"
    }
   },
   "outputs": [
    {
     "data": {
      "text/html": [
       "<table><tr><th>Header</th><th>Data Arrays</th></tr><tr><td>\n",
       "<table>\n",
       "<tr><th>UnstructuredGrid</th><th>Information</th></tr>\n",
       "<tr><td>N Cells</td><td>21550</td></tr>\n",
       "<tr><td>N Points</td><td>15462</td></tr>\n",
       "<tr><td>X Bounds</td><td>0.000e+00, 6.848e-01</td></tr>\n",
       "<tr><td>Y Bounds</td><td>-6.160e-01, 3.460e-01</td></tr>\n",
       "<tr><td>Z Bounds</td><td>0.000e+00, 1.000e-03</td></tr>\n",
       "<tr><td>N Arrays</td><td>2</td></tr>\n",
       "</table>\n",
       "\n",
       "</td><td>\n",
       "<table>\n",
       "<tr><th>Name</th><th>Field</th><th>Type</th><th>N Comp</th><th>Min</th><th>Max</th></tr>\n",
       "<tr><td><b>gmsh:physical</b></td><td>Cells</td><td>int32</td><td>1</td><td>1.000e+00</td><td>5.000e+00</td></tr>\n",
       "<tr><td>gmsh:geometrical</td><td>Cells</td><td>int32</td><td>1</td><td>1.000e+00</td><td>1.540e+02</td></tr>\n",
       "</table>\n",
       "\n",
       "</td></tr> </table>"
      ],
      "text/plain": [
       "UnstructuredGrid (0x7fa56ad92220)\n",
       "  N Cells:\t21550\n",
       "  N Points:\t15462\n",
       "  X Bounds:\t0.000e+00, 6.848e-01\n",
       "  Y Bounds:\t-6.160e-01, 3.460e-01\n",
       "  Z Bounds:\t0.000e+00, 1.000e-03\n",
       "  N Arrays:\t2"
      ]
     },
     "execution_count": 10,
     "metadata": {},
     "output_type": "execute_result"
    }
   ],
   "source": [
    "import pyvista as pv\n",
    "res_malla = pv.read(\"out.vtk\")\n",
    "res_malla"
   ]
  },
  {
   "cell_type": "markdown",
   "metadata": {
    "slideshow": {
     "slide_type": "subslide"
    }
   },
   "source": [
    "Resultados de la evaluación de malla a través del comando `checkMesh`, de OpenFoam:"
   ]
  },
  {
   "cell_type": "code",
   "execution_count": 11,
   "metadata": {
    "scrolled": true,
    "slideshow": {
     "slide_type": "-"
    }
   },
   "outputs": [
    {
     "data": {
      "text/markdown": [
       "|__Parámetro__|__Valor__|\n",
       "|--------|-------------|\n",
       "|Apertura _máxima_ entre elementos| 21.2121|\n",
       "|Checkeo de _no_ ortogonalidad|OK. |\n",
       "|Oblicuidad máxima|1.12918 OK. |\n",
       "|Conclusión de malla|OK.|\n",
       "        "
      ],
      "text/plain": [
       "<IPython.core.display.Markdown object>"
      ]
     },
     "metadata": {},
     "output_type": "display_data"
    },
    {
     "data": {
      "text/markdown": [
       "La oblicuidad máxima es mayor a 1.0. Se recomienda disminuir el _rango_ del tamaño entre elementos para disminuir este valor."
      ],
      "text/plain": [
       "<IPython.core.display.Markdown object>"
      ]
     },
     "metadata": {},
     "output_type": "display_data"
    },
    {
     "data": {
      "text/plain": [
       "<App.CFD_DEM.Malla.ToFoam at 0x7fa529787460>"
      ]
     },
     "execution_count": 11,
     "metadata": {},
     "output_type": "execute_result"
    }
   ],
   "source": [
    "from App.CFD_DEM.Malla import *\n",
    "ToFoam()"
   ]
  },
  {
   "cell_type": "markdown",
   "metadata": {
    "slideshow": {
     "slide_type": "subslide"
    }
   },
   "source": [
    "## 6.2. Condiciones de frontera\n",
    "\n",
    "Como se aprecia en la Figura 2, el volumen de control presenta una _entrada_ y una _salida_. También cuenta con una zona de lodos, en donde se deposita parte del material particulado que se busca separar. Las condiciones de frontera, que son tanto de tipo _Dirichlet_ y _Neumann_, se pueden apreciar a continuación.\n",
    "\n",
    "<div align=\"center\">\n",
    "    <img src=\"Images/CF.PNG\" style=\"width: 250px;\" />\n",
    "</div>\n",
    "<div align=\"center\">\n",
    "    <i>Figura 2.</i> Discretización del dominio bidimensional.\n",
    "</div>\n",
    "\n"
   ]
  },
  {
   "cell_type": "code",
   "execution_count": null,
   "metadata": {
    "slideshow": {
     "slide_type": "-"
    }
   },
   "outputs": [],
   "source": [
    "from App.CFD_DEM.CF import *\n",
    "Condiciones(lamela['QT'], size.children[2].children[0].value)"
   ]
  },
  {
   "cell_type": "markdown",
   "metadata": {
    "slideshow": {
     "slide_type": "subslide"
    }
   },
   "source": [
    "Cabe resaltar que de las condiciones de frontera, se emplea la condición de _no deslizamiento_ en los muros del sistema. Como se muestra a continuación, en ``ParaView``."
   ]
  },
  {
   "cell_type": "code",
   "execution_count": null,
   "metadata": {},
   "outputs": [],
   "source": [
    "import os \n",
    "os.system('paraview \"./CFD_DEM/system/controlDict\"')"
   ]
  },
  {
   "cell_type": "markdown",
   "metadata": {
    "slideshow": {
     "slide_type": "subslide"
    }
   },
   "source": [
    "## 6.3. Desarrollo de la simulación\n",
    "\n",
    "La simulación numérica a realizar comprende dos métodos numéricos: el método de _volúmenes finitos_ (FVM, por sus siglas en inglés), con el cual se predice el comportamiento fluidodinámico dentro del volumen de control, y el método de _elementos discretos_ (DEM, por sus siglas en inglés), con el que se predice el comportamiento dinámico de las partículas sólidas y su interacción con el solvente.\n",
    "\n"
   ]
  },
  {
   "cell_type": "markdown",
   "metadata": {
    "slideshow": {
     "slide_type": "subslide"
    }
   },
   "source": [
    "### 6.3.1. CFD\n",
    "La _Dinámica de Fluidos Computacional_ (CFD) es una herramienta computacional ampliamente usada en ingeniería para el desarrollo de simulaciones numéricas que involucren fluidos. Emplea como método base el método de volúmenes finitos (FVM). Este método numérico transforma las ecuaciones diferenciales parciales, que representan las leyes conservativas, en ecuaciones algebraicas discretas sobre volúmenes finitos.\n",
    "\n",
    "Se trata de un problema _bidimensional_ (2D); de modo que la discretización del dominio se plantea de de la siguiente forma:\n",
    "\n",
    "<div align=\"center\">\n",
    "    <img src=\"Images/malla.png\" style=\"width: 250px;\" />\n",
    "</div>\n",
    "<div align=\"center\">\n",
    "    <i>Figura 3.</i> Discretización del dominio bidimensional.\n",
    "</div>"
   ]
  },
  {
   "cell_type": "markdown",
   "metadata": {
    "slideshow": {
     "slide_type": "subslide"
    }
   },
   "source": [
    "El diagrama de flujo de la solución del problema se puede apreciar a continuación.\n",
    "\n",
    "<div align=\"center\">\n",
    "    <img src=\"Images/flujo.png\" style=\"width: 350px;\" />\n",
    "</div>\n",
    "<div align=\"center\">\n",
    "    <i>Figura 4.</i> Diagrama de flujo del solucionador pimpleFoam.\n",
    "</div>"
   ]
  },
  {
   "cell_type": "markdown",
   "metadata": {
    "slideshow": {
     "slide_type": "subslide"
    }
   },
   "source": [
    "En donde, para un modelo de flujo laminar, la Ecuación _general_ del problema bidimensional transitorio que se busca resolver se puede apreciar en la Ecuación \\ref{2D}.\n",
    "\n",
    "$$\n",
    "\\begin{equation}\n",
    "    \\underbrace{\\rho \\frac{\\partial \\phi}{\\partial t}}_{\\text{transitorio}} + \\underbrace{\\rho u \\frac{\\partial \\phi}{\\partial x} + \\rho v \\frac{\\partial \\phi}{\\partial y}}_{\\text{convectivo}} = \\underbrace{ \\frac{\\partial}{\\partial x} \\left( \\Gamma \\frac{\\partial \\phi}{\\partial x} \\right) + \\frac{\\partial}{\\partial y} \\left( \\Gamma \\frac{\\partial \\phi}{\\partial y} \\right)}_{\\text{difusivo}} + \\underbrace{S_{\\phi}}_{\\text{fuente}}\n",
    "    \\tag{9}\n",
    "    \\label{2D}\n",
    "\\end{equation}\n",
    "$$"
   ]
  },
  {
   "cell_type": "markdown",
   "metadata": {},
   "source": [
    "El _comportamiento_ fluidodinámico del problema, resuleto mediante ``OpenFOAM``, se puede observar a continuación a través de la ejecución del siguiente algoritmo. "
   ]
  },
  {
   "cell_type": "code",
   "execution_count": null,
   "metadata": {
    "scrolled": true
   },
   "outputs": [],
   "source": [
    "from App.CFD_DEM.CFD import *\n",
    "FOAM()"
   ]
  },
  {
   "cell_type": "markdown",
   "metadata": {
    "slideshow": {
     "slide_type": "subslide"
    }
   },
   "source": [
    "### __6.3.2 CFD-DEM__\n",
    "\n",
    "Una vez observado el fenómeno fluido sin material particulado, se procede a emplear un modelo CFD-DEM capaz de predecir el comportamiento dinámico del material particulado durante el proceso de separación de sustancias.\n",
    "\n",
    "\n",
    "<div align=\"center\">\n",
    "    <img src=\"Images/CFDEM.png\" style=\"width: 900px;\" />\n",
    "</div>\n",
    "<div align=\"center\">\n",
    "    <i>Figura 5.</i> Metodología del modelo CFD-DEM.\n",
    "</div>"
   ]
  },
  {
   "cell_type": "code",
   "execution_count": null,
   "metadata": {},
   "outputs": [],
   "source": [
    "ToFoam(dir=\"CFD_DEM\", imprime=False)\n",
    "#Condiciones(lamela['QT'], size.children[2].children[0].value, dir=\"CFD_DEM/\", imprime = False)\n",
    "\n",
    "#¿Nueva simulación?\n",
    "#clean(\"CFD_DEM\") "
   ]
  },
  {
   "cell_type": "markdown",
   "metadata": {
    "slideshow": {
     "slide_type": "subslide"
    }
   },
   "source": [
    "Se empleó un enfoque _Eulerian - Lagrange_ (E-L) para resolver el problema, debido a que adopta la teoría continua para la fase líquida y resuelve el modelo dinámico de cada __partícula individual__. Gracias a ello, información referente a la posición, velocidad, fuerza hidrodinámica y difusividad, entre otros, se pueden obtener para cualquier insante de tiempo. Teniendo así el potencial de sobrellevar las dificultades y limitaciones inherentes en modelos _teóricos_ y _empíricos_.\n",
    "\n",
    "<div align=\"center\">\n",
    "    <img src=\"Images/particulas.png\" style=\"width: 700px;\" />\n",
    "</div>\n",
    "<div align=\"center\">\n",
    "    <i>Figura 6.</i> Dinámica de las partículas.\n",
    "</div>\n",
    "\n",
    "$$\n",
    "\\begin{equation}\n",
    "\tm_i \\frac{d v _i}{dt} = F_{c,i} + F_{f,i} + F_{g,i}\n",
    "\t\\label{DEMdyn}\n",
    "    \\tag{10}\n",
    "\\end{equation}\n",
    "$$\n",
    "\n",
    "\n",
    "$$\n",
    "\\begin{equation}\n",
    "\tI_i \\frac{d \\omega _i}{dt} = T_{c,i} + T_{r,i}\n",
    "\t\\label{DEMrot}\n",
    "    \\tag{11}\n",
    "\\end{equation}\n",
    "$$"
   ]
  },
  {
   "cell_type": "markdown",
   "metadata": {
    "slideshow": {
     "slide_type": "subslide"
    }
   },
   "source": [
    "Por tratarse de partículas con tamaños del orden de los micrómetros, se requiere de un _alto costo computacional_ para llevar a cabo una simulación.  "
   ]
  },
  {
   "cell_type": "code",
   "execution_count": null,
   "metadata": {
    "slideshow": {
     "slide_type": "-"
    }
   },
   "outputs": [],
   "source": [
    "from App.Postprocessing.part import *\n",
    "particulas()"
   ]
  }
 ],
 "metadata": {
  "celltoolbar": "Slideshow",
  "kernelspec": {
   "display_name": "Python 3",
   "language": "python",
   "name": "python3"
  },
  "language_info": {
   "codemirror_mode": {
    "name": "ipython",
    "version": 3
   },
   "file_extension": ".py",
   "mimetype": "text/x-python",
   "name": "python",
   "nbconvert_exporter": "python",
   "pygments_lexer": "ipython3",
   "version": "3.8.5"
  }
 },
 "nbformat": 4,
 "nbformat_minor": 4
}
